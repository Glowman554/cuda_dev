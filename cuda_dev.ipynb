{
  "nbformat": 4,
  "nbformat_minor": 0,
  "metadata": {
    "colab": {
      "name": "cuda_dev.ipynb",
      "provenance": [],
      "collapsed_sections": [],
      "authorship_tag": "ABX9TyM8yVHcZYJ6Wac5WwuWZPTu",
      "include_colab_link": true
    },
    "kernelspec": {
      "name": "python3",
      "display_name": "Python 3"
    },
    "language_info": {
      "name": "python"
    },
    "accelerator": "GPU"
  },
  "cells": [
    {
      "cell_type": "markdown",
      "metadata": {
        "id": "view-in-github",
        "colab_type": "text"
      },
      "source": [
        "<a href=\"https://colab.research.google.com/github/Glowman554/cuda_dev/blob/main/cuda_dev.ipynb\" target=\"_parent\"><img src=\"https://colab.research.google.com/assets/colab-badge.svg\" alt=\"Open In Colab\"/></a>"
      ]
    },
    {
      "cell_type": "code",
      "execution_count": 9,
      "metadata": {
        "colab": {
          "base_uri": "https://localhost:8080/"
        },
        "id": "p3vyr69pcsU1",
        "outputId": "5b157cd7-3e99-474a-ae34-45bb44ccacf7"
      },
      "outputs": [
        {
          "output_type": "stream",
          "name": "stdout",
          "text": [
            "fatal: destination path 'cuda_dev' already exists and is not an empty directory.\n",
            "make: Entering directory '/content/cuda_dev'\n",
            "make -C pi\n",
            "make[1]: Entering directory '/content/cuda_dev/pi'\n",
            "NVCC main.cu -> ../lib/.//main_pi.elf.o\n",
            "LD ../lib/.//main_pi.elf.o\n",
            "make[1]: Leaving directory '/content/cuda_dev/pi'\n",
            "make -C hello_world\n",
            "make[1]: Entering directory '/content/cuda_dev/hello_world'\n",
            "LD ../lib/.//main_hello_world.elf.o\n",
            "make[1]: Leaving directory '/content/cuda_dev/hello_world'\n",
            "make -C abzahlungsdarlehen\n",
            "make[1]: Entering directory '/content/cuda_dev/abzahlungsdarlehen'\n",
            "LD ../lib/.//main_abzahlungsdarlehen.elf.o\n",
            "make[1]: Leaving directory '/content/cuda_dev/abzahlungsdarlehen'\n",
            "make: Leaving directory '/content/cuda_dev'\n"
          ]
        }
      ],
      "source": [
        "!git clone https://github.com/Glowman554/cuda_dev\n",
        "!make -C cuda_dev"
      ]
    },
    {
      "cell_type": "code",
      "source": [
        "!./cuda_dev/bin/hello_world.elf"
      ],
      "metadata": {
        "colab": {
          "base_uri": "https://localhost:8080/"
        },
        "id": "3DxpAJyccvGw",
        "outputId": "d352e392-acc9-43a6-c450-6ea4c7777666"
      },
      "execution_count": 6,
      "outputs": [
        {
          "output_type": "stream",
          "name": "stdout",
          "text": [
            "Hello, World!\n",
            "numBlocks: 1 1\n",
            "threadsPerBlock: 16 16\n",
            "2.000000 2.000000 2.000000 2.000000 2.000000 2.000000 2.000000 2.000000 2.000000 2.000000 \n",
            "2.000000 2.000000 2.000000 2.000000 2.000000 2.000000 2.000000 2.000000 2.000000 2.000000 \n",
            "2.000000 2.000000 2.000000 2.000000 2.000000 2.000000 2.000000 2.000000 2.000000 2.000000 \n",
            "2.000000 2.000000 2.000000 2.000000 2.000000 2.000000 2.000000 2.000000 2.000000 2.000000 \n",
            "2.000000 2.000000 2.000000 2.000000 2.000000 2.000000 2.000000 2.000000 2.000000 2.000000 \n",
            "2.000000 2.000000 2.000000 2.000000 2.000000 2.000000 2.000000 2.000000 2.000000 2.000000 \n",
            "2.000000 2.000000 2.000000 2.000000 2.000000 2.000000 2.000000 2.000000 2.000000 2.000000 \n",
            "2.000000 2.000000 2.000000 2.000000 2.000000 2.000000 2.000000 2.000000 2.000000 2.000000 \n",
            "2.000000 2.000000 2.000000 2.000000 2.000000 2.000000 2.000000 2.000000 2.000000 2.000000 \n",
            "2.000000 2.000000 2.000000 2.000000 2.000000 2.000000 2.000000 2.000000 2.000000 2.000000 \n"
          ]
        }
      ]
    },
    {
      "cell_type": "code",
      "source": [
        "!./cuda_dev/bin/pi.elf"
      ],
      "metadata": {
        "colab": {
          "base_uri": "https://localhost:8080/"
        },
        "id": "kfEIMMdgdU2I",
        "outputId": "9ea028ae-e037-476a-fa27-5abea437ecd9"
      },
      "execution_count": 10,
      "outputs": [
        {
          "output_type": "stream",
          "name": "stdout",
          "text": [
            "Number of iterations: 1000000\n",
            "Number of sub iterations: 100000\n",
            "\r0% [                                                                                ]\r\r10% [=======>                                                                        ]\r\r20% [===============>                                                                ]\r\r30% [=======================>                                                        ]\r\r40% [===============================>                                                ]\r\r50% [=======================================>                                        ]\r\r60% [===============================================>                                ]\r\r70% [=======================================================>                        ]\r\r80% [===============================================================>                ]\r\r90% [=======================================================================>        ]\r\r100% [===============================================================================>]\rDEVICE: the value of PI is 3.1415917444988323836696508806198835372924804687500000000000000000000000000000000000000000000000000000\n"
          ]
        }
      ]
    },
    {
      "cell_type": "code",
      "source": [
        "!./cuda_dev/bin/abzahlungsdarlehen.elf"
      ],
      "metadata": {
        "colab": {
          "base_uri": "https://localhost:8080/"
        },
        "id": "ww-Fl36VdXiC",
        "outputId": "9547afd5-84c5-482b-dc83-a0e09e4d5a13"
      },
      "execution_count": 11,
      "outputs": [
        {
          "output_type": "stream",
          "name": "stdout",
          "text": [
            "Kreditsumme [€]:\n",
            "1000\n",
            "Laufzeit [Jahre]:\n",
            "22\n",
            "Zinssatz [%]:\n",
            "7\n",
            "\n",
            "Jahr    Rest (JA)    Tilgung     Rest (JE)      Zins        Rate\n",
            "----------------------------------------------------------------\n",
            "   1     1000.00      954.55       45.45       70.00      115.45\n",
            "   2      954.55      909.09       45.45       66.82      112.27\n",
            "   3      909.09      863.64       45.45       63.64      109.09\n",
            "   4      863.64      818.18       45.45       60.45      105.91\n",
            "   5      818.18      772.73       45.45       57.27      102.73\n",
            "   6      772.73      727.27       45.45       54.09       99.55\n",
            "   7      727.27      681.82       45.45       50.91       96.36\n",
            "   8      681.82      636.36       45.45       47.73       93.18\n",
            "   9      636.36      590.91       45.45       44.55       90.00\n",
            "  10      590.91      545.45       45.45       41.36       86.82\n",
            "  11      545.45      500.00       45.45       38.18       83.64\n",
            "  12      500.00      454.55       45.45       35.00       80.45\n",
            "  13      454.55      409.09       45.45       31.82       77.27\n",
            "  14      409.09      363.64       45.45       28.64       74.09\n",
            "  15      363.64      318.18       45.45       25.45       70.91\n",
            "  16      318.18      272.73       45.45       22.27       67.73\n",
            "  17      272.73      227.27       45.45       19.09       64.55\n",
            "  18      227.27      181.82       45.45       15.91       61.36\n",
            "  19      181.82      136.36       45.45       12.73       58.18\n",
            "  20      136.36       90.91       45.45        9.55       55.00\n",
            "  21       90.91       45.45       45.45        6.36       51.82\n",
            "  22       45.45        0.00       45.45        3.18       48.64\n",
            "----------------------------------------------------------------\n",
            "                     1000.00                  805.00     1805.00\n"
          ]
        }
      ]
    }
  ]
}